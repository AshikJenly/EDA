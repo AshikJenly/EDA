{
 "cells": [
  {
   "cell_type": "code",
   "execution_count": 2,
   "id": "22a70dc0",
   "metadata": {},
   "outputs": [],
   "source": [
    "import statsmodels.api as sm\n",
    "import numpy as np\n",
    "import matplotlib.pyplot as plt\n",
    "import pandas as pd"
   ]
  },
  {
   "cell_type": "code",
   "execution_count": 3,
   "id": "8322a607",
   "metadata": {},
   "outputs": [],
   "source": [
    "n = 4500\n",
    "pnull= 0.48\n",
    "phat = 0.65"
   ]
  },
  {
   "cell_type": "code",
   "execution_count": 4,
   "id": "8fd11008",
   "metadata": {},
   "outputs": [
    {
     "data": {
      "text/plain": [
       "(23.90916877786327, 1.2294951052777303e-126)"
      ]
     },
     "execution_count": 4,
     "metadata": {},
     "output_type": "execute_result"
    }
   ],
   "source": [
    "sm.stats.proportions_ztest(phat * n, n, pnull,alternative='larger')"
   ]
  },
  {
   "cell_type": "markdown",
   "id": "d7142e7a",
   "metadata": {},
   "source": [
    "z = (sample_mean - population_mean) / (population_stddev / sqrt(n))"
   ]
  },
  {
   "cell_type": "code",
   "execution_count": 6,
   "id": "9c443310",
   "metadata": {},
   "outputs": [],
   "source": [
    "import numpy as np\n",
    "sdata = np.random.randint(200, 250, 89)"
   ]
  },
  {
   "cell_type": "code",
   "execution_count": 13,
   "id": "03713535",
   "metadata": {},
   "outputs": [
    {
     "data": {
      "text/plain": [
       "(84.52159245636695, 0.0)"
      ]
     },
     "execution_count": 13,
     "metadata": {},
     "output_type": "execute_result"
    }
   ],
   "source": [
    "sm.stats.ztest(sdata, value = 100, alternative = \"larger\")"
   ]
  },
  {
   "cell_type": "markdown",
   "id": "32c95966",
   "metadata": {},
   "source": [
    "## Types of hypothesis testing\n",
    "\n",
    "There are different types of hypothesis testing. The most commonly used ones are as follows:\n",
    "\n",
    "**Z-test**\n",
    "\n",
    "**T-test**\n",
    "\n",
    "**ANOVA test**\n",
    "\n",
    "**Chi-squared test**"
   ]
  },
  {
   "cell_type": "code",
   "execution_count": null,
   "id": "bd2a9d5f",
   "metadata": {},
   "outputs": [],
   "source": []
  }
 ],
 "metadata": {
  "kernelspec": {
   "display_name": "Python 3 (ipykernel)",
   "language": "python",
   "name": "python3"
  },
  "language_info": {
   "codemirror_mode": {
    "name": "ipython",
    "version": 3
   },
   "file_extension": ".py",
   "mimetype": "text/x-python",
   "name": "python",
   "nbconvert_exporter": "python",
   "pygments_lexer": "ipython3",
   "version": "3.11.2"
  }
 },
 "nbformat": 4,
 "nbformat_minor": 5
}
